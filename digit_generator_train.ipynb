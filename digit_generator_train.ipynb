{
 "cells": [
  {
   "cell_type": "markdown",
   "id": "f700f62c",
   "metadata": {},
   "source": [
    "# Handwritten Digit Generator (DCGAN on MNIST)\n",
    "This notebook trains a conditional GAN to generate handwritten digits using the MNIST dataset."
   ]
  },
  {
   "cell_type": "code",
   "execution_count": null,
   "id": "c924e775",
   "metadata": {},
   "outputs": [],
   "source": [
    "import torch\n",
    "import torch.nn as nn\n",
    "import torchvision\n",
    "import torchvision.transforms as transforms\n",
    "from torch.utils.data import DataLoader\n",
    "import matplotlib.pyplot as plt\n",
    "import numpy as np"
   ]
  },
  {
   "cell_type": "code",
   "execution_count": null,
   "id": "7ff3939c",
   "metadata": {},
   "outputs": [],
   "source": [
    "# Settings\n",
    "latent_dim = 100\n",
    "num_epochs = 10\n",
    "batch_size = 128\n",
    "learning_rate = 0.0002\n",
    "image_size = 28\n",
    "device = torch.device(\"cuda\" if torch.cuda.is_available() else \"cpu\")"
   ]
  },
  {
   "cell_type": "code",
   "execution_count": null,
   "id": "232c4382",
   "metadata": {},
   "outputs": [],
   "source": [
    "# Data\n",
    "transform = transforms.Compose([\n",
    "    transforms.ToTensor(),\n",
    "    transforms.Normalize([0.5], [0.5])\n",
    "])\n",
    "mnist = torchvision.datasets.MNIST(root='./data', train=True, transform=transform, download=True)\n",
    "data_loader = DataLoader(mnist, batch_size=batch_size, shuffle=True)"
   ]
  },
  {
   "cell_type": "code",
   "execution_count": null,
   "id": "1735c203",
   "metadata": {},
   "outputs": [],
   "source": [
    "# Generator\n",
    "class Generator(nn.Module):\n",
    "    def __init__(self):\n",
    "        super().__init__()\n",
    "        self.main = nn.Sequential(\n",
    "            nn.Linear(latent_dim + 10, 256),\n",
    "            nn.ReLU(True),\n",
    "            nn.Linear(256, 512),\n",
    "            nn.ReLU(True),\n",
    "            nn.Linear(512, 1024),\n",
    "            nn.ReLU(True),\n",
    "            nn.Linear(1024, image_size * image_size),\n",
    "            nn.Tanh()\n",
    "        )\n",
    "\n",
    "    def forward(self, z, labels):\n",
    "        label_input = torch.nn.functional.one_hot(labels, 10).float()\n",
    "        x = torch.cat((z, label_input), dim=1)\n",
    "        out = self.main(x)\n",
    "        return out.view(-1, 1, image_size, image_size)"
   ]
  },
  {
   "cell_type": "code",
   "execution_count": null,
   "id": "c9bbc244",
   "metadata": {},
   "outputs": [],
   "source": [
    "# Discriminator\n",
    "class Discriminator(nn.Module):\n",
    "    def __init__(self):\n",
    "        super().__init__()\n",
    "        self.main = nn.Sequential(\n",
    "            nn.Linear(image_size * image_size + 10, 512),\n",
    "            nn.LeakyReLU(0.2, inplace=True),\n",
    "            nn.Linear(512, 256),\n",
    "            nn.LeakyReLU(0.2, inplace=True),\n",
    "            nn.Linear(256, 1),\n",
    "            nn.Sigmoid()\n",
    "        )\n",
    "\n",
    "    def forward(self, x, labels):\n",
    "        x = x.view(-1, image_size * image_size)\n",
    "        label_input = torch.nn.functional.one_hot(labels, 10).float()\n",
    "        x = torch.cat((x, label_input), dim=1)\n",
    "        return self.main(x)"
   ]
  },
  {
   "cell_type": "code",
   "execution_count": null,
   "id": "565779a5",
   "metadata": {},
   "outputs": [],
   "source": [
    "# Initialize\n",
    "G = Generator().to(device)\n",
    "D = Discriminator().to(device)\n",
    "criterion = nn.BCELoss()\n",
    "optimizer_G = torch.optim.Adam(G.parameters(), lr=learning_rate, betas=(0.5, 0.999))\n",
    "optimizer_D = torch.optim.Adam(D.parameters(), lr=learning_rate, betas=(0.5, 0.999))"
   ]
  },
  {
   "cell_type": "code",
   "execution_count": null,
   "id": "071ae48c",
   "metadata": {},
   "outputs": [],
   "source": [
    "# Train\n",
    "for epoch in range(num_epochs):\n",
    "    for i, (real_imgs, labels) in enumerate(data_loader):\n",
    "        batch_size = real_imgs.size(0)\n",
    "        real_imgs, labels = real_imgs.to(device), labels.to(device)\n",
    "\n",
    "        valid = torch.ones(batch_size, 1, device=device)\n",
    "        fake = torch.zeros(batch_size, 1, device=device)\n",
    "\n",
    "        # Train Generator\n",
    "        z = torch.randn(batch_size, latent_dim, device=device)\n",
    "        gen_imgs = G(z, labels)\n",
    "        g_loss = criterion(D(gen_imgs, labels), valid)\n",
    "        optimizer_G.zero_grad()\n",
    "        g_loss.backward()\n",
    "        optimizer_G.step()\n",
    "\n",
    "        # Train Discriminator\n",
    "        real_loss = criterion(D(real_imgs, labels), valid)\n",
    "        fake_loss = criterion(D(gen_imgs.detach(), labels), fake)\n",
    "        d_loss = (real_loss + fake_loss) / 2\n",
    "        optimizer_D.zero_grad()\n",
    "        d_loss.backward()\n",
    "        optimizer_D.step()\n",
    "\n",
    "    print(f\"[Epoch {epoch+1}/{num_epochs}] D loss: {d_loss.item():.4f} | G loss: {g_loss.item():.4f}\")"
   ]
  },
  {
   "cell_type": "code",
   "execution_count": null,
   "id": "270418ff",
   "metadata": {},
   "outputs": [],
   "source": [
    "# Save model\n",
    "torch.save(G.state_dict(), \"generator.pth\")\n",
    "print(\"Generator model saved as 'generator.pth'\")"
   ]
  }
 ],
 "metadata": {},
 "nbformat": 4,
 "nbformat_minor": 5
}